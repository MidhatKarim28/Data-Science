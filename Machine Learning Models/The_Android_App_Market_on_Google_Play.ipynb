{
  "nbformat": 4,
  "nbformat_minor": 0,
  "metadata": {
    "colab": {
      "name": "The Android App Market on Google Play.ipynb",
      "provenance": []
    },
    "kernelspec": {
      "name": "python3",
      "display_name": "Python 3"
    },
    "language_info": {
      "name": "python"
    }
  },
  "cells": [
    {
      "cell_type": "code",
      "execution_count": null,
      "metadata": {
        "id": "KBvvjwV_6iPz"
      },
      "outputs": [],
      "source": [
        "# Read in dataset\n",
        "import pandas as pd\n",
        "apps_with_duplicates = pd.read_csv(\"datasets/apps.csv\")\n",
        "\n",
        "# Drop duplicates from apps_with_duplicates\n",
        "apps = apps_with_duplicates.drop_duplicates()\n",
        "\n",
        "# Print the total number of apps\n",
        "print('Total number of apps in the dataset = ', apps.count())\n",
        "\n",
        "# Have a look at a random sample of 5 rows\n",
        "print(apps.head())"
      ]
    },
    {
      "cell_type": "code",
      "source": [
        "# List of characters to remove\n",
        "chars_to_remove = [\",\",\"+\",\"$\"]\n",
        "# List of column names to clean\n",
        "cols_to_clean = [\"Installs\",\"Price\"]\n",
        "\n",
        "# Loop for each column in cols_to_clean\n",
        "for col in cols_to_clean:\n",
        "    # Loop for each char in chars_to_remove\n",
        "    for char in chars_to_remove:\n",
        "        # Replace the character with an empty string\n",
        "        apps[col] = apps[col].apply(lambda x: x.replace(char, \"\"))\n",
        "        \n",
        "# Print a summary of the apps dataframe\n",
        "print(apps.info())"
      ],
      "metadata": {
        "id": "XHN7tso_6ooH"
      },
      "execution_count": null,
      "outputs": []
    },
    {
      "cell_type": "code",
      "source": [
        "import numpy as np\n",
        "\n",
        "# Convert Installs to float data type\n",
        "apps[\"Installs\"] = apps[\"Installs\"].astype(\"float\")\n",
        "\n",
        "# Convert Price to float data type\n",
        "apps[\"Price\"] = apps[\"Price\"].astype(\"float\")\n",
        "\n",
        "# Checking dtypes of the apps dataframe\n",
        "print(apps.dtypes)"
      ],
      "metadata": {
        "id": "k6gpuSID6t2z"
      },
      "execution_count": null,
      "outputs": []
    },
    {
      "cell_type": "code",
      "source": [
        "import plotly\n",
        "plotly.offline.init_notebook_mode(connected=True)\n",
        "import plotly.graph_objs as go\n",
        "\n",
        "# Print the total number of unique categories\n",
        "num_categories = apps[\"Category\"].unique()\n",
        "print('Number of categories = ', num_categories)\n",
        "\n",
        "# Count the number of apps in each 'Category'. \n",
        "num_apps_in_category = apps.groupby(\"Category\").count()\n",
        "num_apps_in_category = num_apps_in_category[\"App\"]\n",
        "print(num_apps_in_category)\n",
        "\n",
        "# Sort num_apps_in_category in descending order based on the count of apps in each category\n",
        "sorted_num_apps_in_category = num_apps_in_category.sort_values(ascending = False)\n",
        "\n",
        "data = [go.Bar(\n",
        "        x = num_apps_in_category.index, # index = category name\n",
        "        y = num_apps_in_category.values, # value = count\n",
        ")]\n",
        "\n",
        "plotly.offline.iplot(data)\n"
      ],
      "metadata": {
        "id": "B_EcURtC6xrT"
      },
      "execution_count": null,
      "outputs": []
    },
    {
      "cell_type": "code",
      "source": [
        "# Average rating of apps\n",
        "avg_app_rating = apps[\"Rating\"].mean()\n",
        "print('Average app rating = ', avg_app_rating)\n",
        "\n",
        "# Distribution of apps according to their ratings\n",
        "data = [go.Histogram(\n",
        "        x = apps['Rating']\n",
        ")]\n",
        "\n",
        "# Vertical dashed line to indicate the average app rating\n",
        "layout = {'shapes': [{\n",
        "              'type' :'line',\n",
        "              'x0': avg_app_rating,\n",
        "              'y0': 0,\n",
        "              'x1': avg_app_rating,\n",
        "              'y1': 1000,\n",
        "              'line': { 'dash': 'dashdot'}\n",
        "          }]\n",
        "          }\n",
        "\n",
        "plotly.offline.iplot({'data': data, 'layout': layout})"
      ],
      "metadata": {
        "id": "e_YTv4HS615d"
      },
      "execution_count": null,
      "outputs": []
    }
  ]
}