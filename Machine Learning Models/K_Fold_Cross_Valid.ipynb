{
  "nbformat": 4,
  "nbformat_minor": 0,
  "metadata": {
    "colab": {
      "name": "K-Fold Cross Valid.ipynb",
      "provenance": []
    },
    "kernelspec": {
      "name": "python3",
      "display_name": "Python 3"
    },
    "language_info": {
      "name": "python"
    }
  },
  "cells": [
    {
      "cell_type": "code",
      "execution_count": null,
      "metadata": {
        "id": "Agn6i65RzeRi"
      },
      "outputs": [],
      "source": [
        "from sklearn.model_selection import train_test_split\n",
        "from sklearn.model_selection import KFold\n",
        "from sklearn.model_selection import cross_val_score\n",
        "from sklearn.linear_model import LinearRegression\n",
        "from numpy import mean\n",
        "from numpy import absolute\n",
        "from numpy import sqrt\n",
        "import pandas as pd"
      ]
    },
    {
      "cell_type": "code",
      "source": [
        "df = pd.DataFrame({'y': [6, 8, 12, 14, 14, 15, 17, 22, 24, 23],\n",
        "                   'x1': [2, 5, 4, 3, 4, 6, 7, 5, 8, 9],\n",
        "                   'x2': [14, 12, 12, 13, 7, 8, 7, 4, 6, 5]})"
      ],
      "metadata": {
        "id": "VI9V_HK02X2Y"
      },
      "execution_count": null,
      "outputs": []
    },
    {
      "cell_type": "code",
      "source": [
        "#define predictor and response variables\n",
        "X = df[['x1', 'x2']]\n",
        "y = df['y']\n",
        "\n",
        "#define cross-validation method to use\n",
        "cv = KFold(n_splits=10, random_state=1, shuffle=True)\n",
        "\n",
        "#build multiple linear regression model\n",
        "model = LinearRegression()\n",
        "\n",
        "#use k-fold CV to evaluate model\n",
        "scores = cross_val_score(model, X, y, scoring='neg_mean_absolute_error',cv=cv, n_jobs=-1)\n",
        "print(scores)\n",
        "\n",
        "#view mean absolute error\n",
        "mean(absolute(scores))\n",
        "\n"
      ],
      "metadata": {
        "colab": {
          "base_uri": "https://localhost:8080/"
        },
        "id": "Gg6RHNOE2bgZ",
        "outputId": "bdfb14ff-fbeb-46f7-bb2a-be88644c5399"
      },
      "execution_count": null,
      "outputs": [
        {
          "output_type": "stream",
          "name": "stdout",
          "text": [
            "[-1.37391167 -0.5800885  -2.22270204 -3.88354531 -1.7159581  -6.76454294\n",
            " -4.91317829 -3.37927664 -4.43852243 -2.18982218]\n"
          ]
        },
        {
          "output_type": "execute_result",
          "data": {
            "text/plain": [
              "3.146154808346972"
            ]
          },
          "metadata": {},
          "execution_count": 9
        }
      ]
    },
    {
      "cell_type": "code",
      "source": [
        "#define predictor and response variables\n",
        "X = df[['x1', 'x2']]\n",
        "y = df['y']\n",
        "\n",
        "#define cross-validation method to use\n",
        "cv = KFold(n_splits=5, random_state=1, shuffle=True) \n",
        "\n",
        "#build multiple linear regression model\n",
        "model = LinearRegression()\n",
        "\n",
        "#use LOOCV to evaluate model\n",
        "scores = cross_val_score(model, X, y, scoring='neg_mean_squared_error',\n",
        "                         cv=cv, n_jobs=-1)\n",
        "print(scores)\n",
        "\n",
        "#view RMSE\n",
        "sqrt(mean(absolute(scores)))\n"
      ],
      "metadata": {
        "colab": {
          "base_uri": "https://localhost:8080/"
        },
        "id": "5nFQxMbC2eah",
        "outputId": "0ce1a404-0e57-4df7-b3f6-67d7300b7925"
      },
      "execution_count": null,
      "outputs": [
        {
          "output_type": "stream",
          "name": "stdout",
          "text": [
            "[ -1.14100022 -10.86700588 -30.58866614 -39.45415897  -9.7284336 ]\n"
          ]
        },
        {
          "output_type": "execute_result",
          "data": {
            "text/plain": [
              "4.284373111711816"
            ]
          },
          "metadata": {},
          "execution_count": 10
        }
      ]
    }
  ]
}